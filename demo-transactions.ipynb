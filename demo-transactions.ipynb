{
 "cells": [
  {
   "cell_type": "code",
   "execution_count": 86,
   "metadata": {},
   "outputs": [
    {
     "name": "stderr",
     "output_type": "stream",
     "text": [
      "Exception ignored in: <object repr() failed>\n",
      "Traceback (most recent call last):\n",
      "  File \"/Users/joaoneves/anaconda3/lib/python3.6/site-packages/pyspark/ml/wrapper.py\", line 105, in __del__\n",
      "    SparkContext._active_spark_context._gateway.detach(self._java_obj)\n",
      "AttributeError: 'LogisticRegression' object has no attribute '_java_obj'\n"
     ]
    }
   ],
   "source": [
    "import glob\n",
    "import pyarrow as pa\n",
    "import pyarrow.parquet as pq\n",
    "import pandas as pd\n",
    "from sklearn.model_selection import train_test_split\n",
    "import numpy as np\n",
    "import os\n",
    "import shutil\n",
    "import seaborn as sns\n",
    "import matplotlib\n",
    "import numpy as np\n",
    "import matplotlib.pyplot as plt\n",
    "import random\n",
    "%matplotlib inline  \n",
    "\n",
    "pd.set_option('display.max_columns', None)\n",
    "pd.set_option('display.max_colwidth', -1)"
   ]
  },
  {
   "cell_type": "code",
   "execution_count": 87,
   "metadata": {},
   "outputs": [
    {
     "data": {
      "text/plain": [
       "0.009762700785464956"
      ]
     },
     "execution_count": 87,
     "metadata": {},
     "output_type": "execute_result"
    }
   ],
   "source": [
    "london_coordinates = np.array([51.5073509, -0.12775829999998223])\n",
    "np.random.seed(0)\n",
    "np.random.uniform(-0.1,0.1)"
   ]
  },
  {
   "cell_type": "code",
   "execution_count": 88,
   "metadata": {
    "collapsed": true
   },
   "outputs": [],
   "source": [
    "def generate_gps_coordinates(center, radius_dists, n=1000):\n",
    "    result = []\n",
    "    for i in range(n):\n",
    "        point = np.add(center, np.array([dist(-0.1,0.1) for dist in radius_dists]))\n",
    "        result.append(point)\n",
    "    return np.array(result)"
   ]
  },
  {
   "cell_type": "code",
   "execution_count": 89,
   "metadata": {},
   "outputs": [
    {
     "data": {
      "text/plain": [
       "array([[ 51.55038877,  -0.10720562],\n",
       "       [ 51.51632754,  -0.14302734],\n",
       "       [ 51.53652972,  -0.14024086],\n",
       "       ..., \n",
       "       [ 51.56560721,  -0.08351868],\n",
       "       [ 51.50337246,  -0.09898549],\n",
       "       [ 51.50770553,  -0.06545461]])"
      ]
     },
     "execution_count": 89,
     "metadata": {},
     "output_type": "execute_result"
    }
   ],
   "source": [
    "generate_gps_coordinates(london_coordinates, (np.random.uniform, np.random.uniform))"
   ]
  },
  {
   "cell_type": "code",
   "execution_count": 138,
   "metadata": {},
   "outputs": [
    {
     "name": "stdout",
     "output_type": "stream",
     "text": [
      "6362620\n"
     ]
    }
   ],
   "source": [
    "data_dir = \"/Users/joaoneves/Documents/demo-siemens/data/transactions_data/PS_20174392719_1491204439457_log.csv\"\n",
    "transactions_df = pd.read_csv(data_dir)\n",
    "n = len(transactions_df)\n",
    "n"
   ]
  },
  {
   "cell_type": "code",
   "execution_count": 139,
   "metadata": {},
   "outputs": [
    {
     "data": {
      "text/html": [
       "<div>\n",
       "<style>\n",
       "    .dataframe thead tr:only-child th {\n",
       "        text-align: right;\n",
       "    }\n",
       "\n",
       "    .dataframe thead th {\n",
       "        text-align: left;\n",
       "    }\n",
       "\n",
       "    .dataframe tbody tr th {\n",
       "        vertical-align: top;\n",
       "    }\n",
       "</style>\n",
       "<table border=\"1\" class=\"dataframe\">\n",
       "  <thead>\n",
       "    <tr style=\"text-align: right;\">\n",
       "      <th></th>\n",
       "      <th>step</th>\n",
       "      <th>type</th>\n",
       "      <th>amount</th>\n",
       "      <th>nameOrig</th>\n",
       "      <th>oldbalanceOrg</th>\n",
       "      <th>newbalanceOrig</th>\n",
       "      <th>nameDest</th>\n",
       "      <th>oldbalanceDest</th>\n",
       "      <th>newbalanceDest</th>\n",
       "      <th>isFraud</th>\n",
       "      <th>isFlaggedFraud</th>\n",
       "    </tr>\n",
       "  </thead>\n",
       "  <tbody>\n",
       "    <tr>\n",
       "      <th>0</th>\n",
       "      <td>1</td>\n",
       "      <td>PAYMENT</td>\n",
       "      <td>9839.64</td>\n",
       "      <td>C1231006815</td>\n",
       "      <td>170136.0</td>\n",
       "      <td>160296.36</td>\n",
       "      <td>M1979787155</td>\n",
       "      <td>0.0</td>\n",
       "      <td>0.0</td>\n",
       "      <td>0</td>\n",
       "      <td>0</td>\n",
       "    </tr>\n",
       "    <tr>\n",
       "      <th>1</th>\n",
       "      <td>1</td>\n",
       "      <td>PAYMENT</td>\n",
       "      <td>1864.28</td>\n",
       "      <td>C1666544295</td>\n",
       "      <td>21249.0</td>\n",
       "      <td>19384.72</td>\n",
       "      <td>M2044282225</td>\n",
       "      <td>0.0</td>\n",
       "      <td>0.0</td>\n",
       "      <td>0</td>\n",
       "      <td>0</td>\n",
       "    </tr>\n",
       "    <tr>\n",
       "      <th>2</th>\n",
       "      <td>1</td>\n",
       "      <td>TRANSFER</td>\n",
       "      <td>181.00</td>\n",
       "      <td>C1305486145</td>\n",
       "      <td>181.0</td>\n",
       "      <td>0.00</td>\n",
       "      <td>C553264065</td>\n",
       "      <td>0.0</td>\n",
       "      <td>0.0</td>\n",
       "      <td>1</td>\n",
       "      <td>0</td>\n",
       "    </tr>\n",
       "    <tr>\n",
       "      <th>3</th>\n",
       "      <td>1</td>\n",
       "      <td>CASH_OUT</td>\n",
       "      <td>181.00</td>\n",
       "      <td>C840083671</td>\n",
       "      <td>181.0</td>\n",
       "      <td>0.00</td>\n",
       "      <td>C38997010</td>\n",
       "      <td>21182.0</td>\n",
       "      <td>0.0</td>\n",
       "      <td>1</td>\n",
       "      <td>0</td>\n",
       "    </tr>\n",
       "    <tr>\n",
       "      <th>4</th>\n",
       "      <td>1</td>\n",
       "      <td>PAYMENT</td>\n",
       "      <td>11668.14</td>\n",
       "      <td>C2048537720</td>\n",
       "      <td>41554.0</td>\n",
       "      <td>29885.86</td>\n",
       "      <td>M1230701703</td>\n",
       "      <td>0.0</td>\n",
       "      <td>0.0</td>\n",
       "      <td>0</td>\n",
       "      <td>0</td>\n",
       "    </tr>\n",
       "  </tbody>\n",
       "</table>\n",
       "</div>"
      ],
      "text/plain": [
       "   step      type    amount     nameOrig  oldbalanceOrg  newbalanceOrig  \\\n",
       "0  1     PAYMENT   9839.64   C1231006815  170136.0       160296.36        \n",
       "1  1     PAYMENT   1864.28   C1666544295  21249.0        19384.72         \n",
       "2  1     TRANSFER  181.00    C1305486145  181.0          0.00             \n",
       "3  1     CASH_OUT  181.00    C840083671   181.0          0.00             \n",
       "4  1     PAYMENT   11668.14  C2048537720  41554.0        29885.86         \n",
       "\n",
       "      nameDest  oldbalanceDest  newbalanceDest  isFraud  isFlaggedFraud  \n",
       "0  M1979787155  0.0             0.0             0        0               \n",
       "1  M2044282225  0.0             0.0             0        0               \n",
       "2  C553264065   0.0             0.0             1        0               \n",
       "3  C38997010    21182.0         0.0             1        0               \n",
       "4  M1230701703  0.0             0.0             0        0               "
      ]
     },
     "execution_count": 139,
     "metadata": {},
     "output_type": "execute_result"
    }
   ],
   "source": [
    "transactions_df.head()"
   ]
  },
  {
   "cell_type": "code",
   "execution_count": 140,
   "metadata": {
    "collapsed": true
   },
   "outputs": [],
   "source": [
    "gps_coordinates = generate_gps_coordinates(london_coordinates, (np.random.uniform, np.random.uniform), n=len(transactions_df))"
   ]
  },
  {
   "cell_type": "code",
   "execution_count": 141,
   "metadata": {},
   "outputs": [],
   "source": [
    "training_path = \"/Users/joaoneves/Documents/demo-iot-transactions/data/transactions_data/transactions_with_gps.csv\"\n",
    "transactions_df[\"gps_latitude\"] = pd.Series(gps_coordinates[:,0])\n",
    "transactions_df[\"gps_longitude\"] = pd.Series(gps_coordinates[:,1])\n",
    "transactions_df[\"isFraud\"] = transactions_df[\"isFraud\"].astype(\"category\")\n",
    "transactions_df[\"id\"] = transactions_df.index\n",
    "transactions_df.to_csv(training_path, index=False)"
   ]
  },
  {
   "cell_type": "code",
   "execution_count": 142,
   "metadata": {},
   "outputs": [
    {
     "data": {
      "text/plain": [
       "0    6354407\n",
       "1    8213   \n",
       "Name: isFraud, dtype: int64"
      ]
     },
     "execution_count": 142,
     "metadata": {},
     "output_type": "execute_result"
    }
   ],
   "source": [
    "# transactions_df[\"isFraud\"].describe()\n",
    "transactions_df[\"isFraud\"].value_counts()"
   ]
  },
  {
   "cell_type": "code",
   "execution_count": 143,
   "metadata": {
    "collapsed": true
   },
   "outputs": [],
   "source": [
    "tests = np.array_split(transactions_df, 100000)"
   ]
  },
  {
   "cell_type": "code",
   "execution_count": 155,
   "metadata": {},
   "outputs": [
    {
     "data": {
      "text/plain": [
       "'/Users/joaoneves/Documents/demo-iot-transactions/data/transactions'"
      ]
     },
     "execution_count": 155,
     "metadata": {},
     "output_type": "execute_result"
    }
   ],
   "source": [
    "test_path"
   ]
  },
  {
   "cell_type": "code",
   "execution_count": 156,
   "metadata": {},
   "outputs": [],
   "source": [
    "test_files_path = os.path.join(test_path, \"transactions*.csv\")\n",
    "test_files = glob.glob(test_files_path)"
   ]
  },
  {
   "cell_type": "code",
   "execution_count": 157,
   "metadata": {},
   "outputs": [
    {
     "data": {
      "text/plain": [
       "44445"
      ]
     },
     "execution_count": 157,
     "metadata": {},
     "output_type": "execute_result"
    }
   ],
   "source": [
    "test_files.index('/Users/joaoneves/Documents/demo-iot-transactions/data/transactions/transactions_5.csv')"
   ]
  },
  {
   "cell_type": "code",
   "execution_count": 146,
   "metadata": {},
   "outputs": [],
   "source": [
    "test_path = \"/Users/joaoneves/Documents/demo-iot-transactions/data/transactions\"\n",
    "\n",
    "for file in test_files:\n",
    "    os.remove(file)\n",
    "\n",
    "for i, df in enumerate(tests):\n",
    "    df.to_csv(os.path.join(test_path, \"transactions_{}.csv\".format(i)), index=False)"
   ]
  },
  {
   "cell_type": "code",
   "execution_count": 160,
   "metadata": {},
   "outputs": [
    {
     "data": {
      "text/plain": [
       "4446"
      ]
     },
     "execution_count": 160,
     "metadata": {},
     "output_type": "execute_result"
    }
   ],
   "source": [
    "def get_file_with_id(id):\n",
    "    index = id // (n // len(test_files))\n",
    "    path = test_files_path.replace(\"*\", \"_{}\".format(index))\n",
    "    try:\n",
    "        return test_files.index(path)\n",
    "    except ValueError:\n",
    "        return\n",
    "\n",
    "get_file_with_id(884)"
   ]
  },
  {
   "cell_type": "code",
   "execution_count": 101,
   "metadata": {},
   "outputs": [
    {
     "name": "stdout",
     "output_type": "stream",
     "text": [
      "16098\n",
      "16099\n",
      "16100\n",
      "16101\n",
      "16102\n",
      "16103\n",
      "16104\n",
      "16555\n",
      "16556\n",
      "87319\n",
      "99996\n",
      "99997\n",
      "99998\n",
      "99999\n"
     ]
    }
   ],
   "source": [
    "for i, test in enumerate(tests):\n",
    "    if len(test[test[\"isFraud\"] == 1]) > 60:\n",
    "        print(i)"
   ]
  },
  {
   "cell_type": "code",
   "execution_count": 102,
   "metadata": {},
   "outputs": [],
   "source": [
    "from pyspark.ml.classification import LogisticRegression, LogisticRegressionModel\n",
    "from pyspark.sql import SparkSession\n",
    "from pyspark.sql import Row\n",
    "from pyspark.ml.feature import VectorAssembler \n",
    "\n",
    "spark = SparkSession.builder.getOrCreate()\n",
    "\n",
    "sc = spark.sparkContext\n",
    "\n",
    "training_dir = \"/Users/joaoneves/Documents/demo-iot-transactions/data/models\"\n",
    "model_path = os.path.join(training_dir, \"pythonLogisticRegression\")"
   ]
  },
  {
   "cell_type": "code",
   "execution_count": 103,
   "metadata": {},
   "outputs": [
    {
     "name": "stdout",
     "output_type": "stream",
     "text": [
      "['step', 'type', 'amount', 'nameOrig', 'oldbalanceOrg', 'newbalanceOrig', 'nameDest', 'oldbalanceDest', 'newbalanceDest', 'isFraud', 'isFlaggedFraud', 'gps_latitude', 'gps_longitude', 'id']\n"
     ]
    },
    {
     "data": {
      "text/plain": [
       "[Row(step='1', type='PAYMENT', amount='9839.64', nameOrig='C1231006815', oldbalanceOrg='170136.0', newbalanceOrig='160296.36', nameDest='M1979787155', oldbalanceDest='0.0', newbalanceDest='0.0', isFraud='0', isFlaggedFraud='0', gps_latitude='51.50256769719365', gps_longitude='-0.12312710200156707', id='0'),\n",
       " Row(step='1', type='PAYMENT', amount='1864.28', nameOrig='C1666544295', oldbalanceOrg='21249.0', newbalanceOrig='19384.72', nameDest='M2044282225', oldbalanceDest='0.0', newbalanceDest='0.0', isFraud='0', isFlaggedFraud='0', gps_latitude='51.457455017283436', gps_longitude='-0.10674969663788776', id='1'),\n",
       " Row(step='1', type='TRANSFER', amount='181.0', nameOrig='C1305486145', oldbalanceOrg='181.0', newbalanceOrig='0.0', nameDest='C553264065', oldbalanceDest='0.0', newbalanceDest='0.0', isFraud='1', isFlaggedFraud='0', gps_latitude='51.467931861733966', gps_longitude='-0.11230149709138582', id='2'),\n",
       " Row(step='1', type='CASH_OUT', amount='181.0', nameOrig='C840083671', oldbalanceOrg='181.0', newbalanceOrig='0.0', nameDest='C38997010', oldbalanceDest='21182.0', newbalanceDest='0.0', isFraud='1', isFlaggedFraud='0', gps_latitude='51.44128652311481', gps_longitude='-0.19586448153175046', id='3')]"
      ]
     },
     "execution_count": 103,
     "metadata": {},
     "output_type": "execute_result"
    }
   ],
   "source": [
    "data = spark.read.csv(training_path, header=True)\n",
    "\n",
    "# data.printSchema()\n",
    "columns = data.columns\n",
    "float_columns = ['step', 'amount', 'oldbalanceOrg', 'newbalanceOrig', 'oldbalanceDest', 'newbalanceDest', 'gps_latitude', 'gps_longitude']\n",
    "target_column = 'isFraud'\n",
    "print(columns)\n",
    "data.take(4)"
   ]
  },
  {
   "cell_type": "code",
   "execution_count": 104,
   "metadata": {},
   "outputs": [
    {
     "data": {
      "text/plain": [
       "Row(amount=9839.64, gps_latitude=51.50256769719365, gps_longitude=-0.12312710200156707, id='0', isFlaggedFraud='0', label=0, nameDest='M1979787155', nameOrig='C1231006815', newbalanceDest=0.0, newbalanceOrig=160296.36, oldbalanceDest=0.0, oldbalanceOrg=170136.0, step=1.0, type='PAYMENT')"
      ]
     },
     "execution_count": 104,
     "metadata": {},
     "output_type": "execute_result"
    }
   ],
   "source": [
    "def parse_row(row):\n",
    "    new_row = {}\n",
    "    for column in columns:\n",
    "        if column in float_columns:\n",
    "            new_row[column] = float(row[column])\n",
    "        elif column == target_column:\n",
    "            new_row[\"label\"] = int(round(float(row[column])))\n",
    "        else:\n",
    "            new_row[column] = row[column]\n",
    "    return Row(**new_row)\n",
    "\n",
    "data_parsed = data.rdd.map(parse_row).toDF()\n",
    "\n",
    "data_parsed.head()"
   ]
  },
  {
   "cell_type": "code",
   "execution_count": 105,
   "metadata": {},
   "outputs": [
    {
     "data": {
      "text/plain": [
       "Row(amount=9839.64, gps_latitude=51.50256769719365, gps_longitude=-0.12312710200156707, id='0', isFlaggedFraud='0', label=0, nameDest='M1979787155', nameOrig='C1231006815', newbalanceDest=0.0, newbalanceOrig=160296.36, oldbalanceDest=0.0, oldbalanceOrg=170136.0, step=1.0, type='PAYMENT', features=DenseVector([1.0, 9839.64, 170136.0, 160296.36, 0.0, 0.0, 51.5026, -0.1231]))"
      ]
     },
     "execution_count": 105,
     "metadata": {},
     "output_type": "execute_result"
    }
   ],
   "source": [
    "vecAssembler = VectorAssembler(inputCols=['step','amount', \\\n",
    "                                          'oldbalanceOrg', 'newbalanceOrig', \\\n",
    "                                          'oldbalanceDest', 'newbalanceDest', \\\n",
    "                                          'gps_latitude', 'gps_longitude'], \\\n",
    "                               outputCol=\"features\")\n",
    "\n",
    "transformed_data = vecAssembler.transform(data_parsed)\n",
    "\n",
    "transformed_data.head()"
   ]
  },
  {
   "cell_type": "code",
   "execution_count": 106,
   "metadata": {},
   "outputs": [],
   "source": [
    "lr = LogisticRegression(maxIter=1000, threshold=0.01, tol=1e-5)\n",
    "\n",
    "model = lr.fit(transformed_data)"
   ]
  },
  {
   "cell_type": "code",
   "execution_count": 107,
   "metadata": {},
   "outputs": [
    {
     "name": "stdout",
     "output_type": "stream",
     "text": [
      "+------------------+--------------------+\n",
      "|            recall|           precision|\n",
      "+------------------+--------------------+\n",
      "|               0.0|                 1.0|\n",
      "| 0.774869109947644| 0.09813415574402468|\n",
      "| 0.816997443078047|0.052232938667164865|\n",
      "| 0.843784244490442| 0.03607946854370145|\n",
      "|0.8671618166321685|0.027854150941182453|\n",
      "|0.8818945574089857|0.022683854156879693|\n",
      "|0.8892000487032753|0.019072117832939425|\n",
      "|0.8929745525386582|0.016424501934929052|\n",
      "|0.8988189455740898|0.014470509133749298|\n",
      "|0.9025934494094728|0.012920171362639737|\n",
      "|0.9075855351272373|0.011694988915334494|\n",
      "|0.9109947643979057|0.010673628348882993|\n",
      "|0.9137952027273835|0.009967050961445243|\n",
      "|0.9178132229392426| 0.00923102545450983|\n",
      "| 0.920370144892244|0.008587752653637155|\n",
      "|0.9237793741629124| 0.00803860905681168|\n",
      "|0.9262145379276756|0.007550874350949393|\n",
      "|0.9290149762571533|0.007123877032359021|\n",
      "|0.9325459637160599|0.006750045608416273|\n",
      "|0.9347376111043467| 0.00640672568498638|\n",
      "+------------------+--------------------+\n",
      "only showing top 20 rows\n",
      "\n",
      "0.962573037988077\n"
     ]
    }
   ],
   "source": [
    "model.evaluate(transformed_data).pr.show()\n",
    "print(model.evaluate(transformed_data).areaUnderROC)"
   ]
  },
  {
   "cell_type": "code",
   "execution_count": 108,
   "metadata": {},
   "outputs": [
    {
     "name": "stdout",
     "output_type": "stream",
     "text": [
      "+--------------------+------------------+\n",
      "|           threshold|            recall|\n",
      "+--------------------+------------------+\n",
      "|                 1.0| 0.774869109947644|\n",
      "|0.006561491282644194| 0.816997443078047|\n",
      "|0.003949357813573477| 0.843784244490442|\n",
      "|0.002835492888867661|0.8671618166321685|\n",
      "|0.002107414662537...|0.8818945574089857|\n",
      "|0.001733748409879...|0.8892000487032753|\n",
      "|0.001544655807152...|0.8929745525386582|\n",
      "|0.001444811147117...|0.8988189455740898|\n",
      "|0.001352713724098...|0.9025934494094728|\n",
      "|0.001277444178936144|0.9075855351272373|\n",
      "|0.001201056567940...|0.9109947643979057|\n",
      "|0.001135738789277...|0.9117253135273348|\n",
      "|0.001115631623257...|0.9163521246803847|\n",
      "|0.001053026804150195|0.9192743211981006|\n",
      "|9.946928734003158E-4|0.9218312431511019|\n",
      "| 9.42524646181952E-4|0.9245099232923414|\n",
      "|8.910491138542175E-4|0.9277973943747717|\n",
      "|8.474195713039216E-4|0.9312066236454402|\n",
      "|8.056726289204571E-4|0.9331547546572507|\n",
      "|7.664274069040154E-4|0.9359551929867284|\n",
      "+--------------------+------------------+\n",
      "only showing top 20 rows\n",
      "\n"
     ]
    }
   ],
   "source": [
    "model.evaluate(transformed_data).recallByThreshold.show()"
   ]
  },
  {
   "cell_type": "code",
   "execution_count": 109,
   "metadata": {
    "collapsed": true
   },
   "outputs": [],
   "source": [
    "# Save and load model\n",
    "model.write().overwrite().save(model_path)"
   ]
  },
  {
   "cell_type": "code",
   "execution_count": 110,
   "metadata": {},
   "outputs": [],
   "source": [
    "sameModel = LogisticRegressionModel.load(model_path)"
   ]
  },
  {
   "cell_type": "code",
   "execution_count": 111,
   "metadata": {
    "collapsed": true
   },
   "outputs": [],
   "source": [
    "pred = sameModel.transform(transformed_data)"
   ]
  },
  {
   "cell_type": "code",
   "execution_count": 113,
   "metadata": {},
   "outputs": [],
   "source": [
    "anomalies = pred.rdd.filter(lambda row: row[\"prediction\"]==1.0)"
   ]
  },
  {
   "cell_type": "code",
   "execution_count": 116,
   "metadata": {},
   "outputs": [
    {
     "data": {
      "text/plain": [
       "64"
      ]
     },
     "execution_count": 116,
     "metadata": {},
     "output_type": "execute_result"
    }
   ],
   "source": [
    "len(tests[2])"
   ]
  },
  {
   "cell_type": "code",
   "execution_count": 165,
   "metadata": {},
   "outputs": [],
   "source": [
    "transactions_ids = anomalies.map(lambda row: (get_file_with_id(int(row[\"id\"])), row[\"id\"])).groupByKey().mapValues(lambda l: list(l)).cache()"
   ]
  },
  {
   "cell_type": "code",
   "execution_count": 167,
   "metadata": {},
   "outputs": [
    {
     "data": {
      "text/plain": [
       "[(11112, ['146', '165']),\n",
       " (12224, ['1362']),\n",
       " (22224, ['1898', '1904']),\n",
       " (31112, ['2417']),\n",
       " (51112, ['3569']),\n",
       " (4224, ['8706']),\n",
       " (5224, ['9284']),\n",
       " (7224, ['10395', '10396']),\n",
       " (11336, ['12787']),\n",
       " (12336, ['13327', '13333', '13336'])]"
      ]
     },
     "execution_count": 167,
     "metadata": {},
     "output_type": "execute_result"
    }
   ],
   "source": [
    "transactions_ids.take(10)"
   ]
  },
  {
   "cell_type": "code",
   "execution_count": 132,
   "metadata": {},
   "outputs": [
    {
     "data": {
      "text/plain": [
       "63"
      ]
     },
     "execution_count": 132,
     "metadata": {},
     "output_type": "execute_result"
    }
   ],
   "source": [
    "6362620 // 100000"
   ]
  },
  {
   "cell_type": "code",
   "execution_count": 135,
   "metadata": {},
   "outputs": [
    {
     "data": {
      "text/plain": [
       "14"
      ]
     },
     "execution_count": 135,
     "metadata": {},
     "output_type": "execute_result"
    }
   ],
   "source": [
    "884 // 63"
   ]
  },
  {
   "cell_type": "code",
   "execution_count": null,
   "metadata": {
    "collapsed": true
   },
   "outputs": [],
   "source": []
  }
 ],
 "metadata": {
  "anaconda-cloud": {},
  "kernelspec": {
   "display_name": "Python [conda root]",
   "language": "python",
   "name": "conda-root-py"
  },
  "language_info": {
   "codemirror_mode": {
    "name": "ipython",
    "version": 3
   },
   "file_extension": ".py",
   "mimetype": "text/x-python",
   "name": "python",
   "nbconvert_exporter": "python",
   "pygments_lexer": "ipython3",
   "version": "3.6.2"
  }
 },
 "nbformat": 4,
 "nbformat_minor": 1
}
